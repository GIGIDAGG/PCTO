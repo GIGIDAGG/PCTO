{
  "nbformat": 4,
  "nbformat_minor": 0,
  "metadata": {
    "colab": {
      "provenance": [],
      "gpuType": "T4",
      "include_colab_link": true
    },
    "kernelspec": {
      "name": "python3",
      "display_name": "Python 3"
    },
    "language_info": {
      "name": "python"
    },
    "accelerator": "GPU"
  },
  "cells": [
    {
      "cell_type": "markdown",
      "metadata": {
        "id": "view-in-github",
        "colab_type": "text"
      },
      "source": [
        "<a href=\"https://colab.research.google.com/github/GIGIDAGG/PCTO/blob/main/Only_Buoys_Detection.ipynb\" target=\"_parent\"><img src=\"https://colab.research.google.com/assets/colab-badge.svg\" alt=\"Open In Colab\"/></a>"
      ]
    },
    {
      "cell_type": "code",
      "execution_count": null,
      "metadata": {
        "id": "a_RvxT0Pc8MU"
      },
      "outputs": [],
      "source": [
        "!git clone https://github.com/ultralytics/yolov5"
      ]
    },
    {
      "cell_type": "code",
      "source": [
        "import torch"
      ],
      "metadata": {
        "id": "5RgnuitELSxl"
      },
      "execution_count": null,
      "outputs": []
    },
    {
      "cell_type": "code",
      "source": [
        "torch.hub.download_url_to_file('https://app.roboflow.com/ds/6fDcQZtyLu?key=NmliLrqyk5', 'roboflow.zip')"
      ],
      "metadata": {
        "id": "EdiqnrTYLU62"
      },
      "execution_count": null,
      "outputs": []
    },
    {
      "cell_type": "code",
      "source": [
        "!unzip -q roboflow.zip -d /content/datasets && rm roboflow.zip"
      ],
      "metadata": {
        "id": "Vl-aQm36La6n"
      },
      "execution_count": null,
      "outputs": []
    },
    {
      "cell_type": "code",
      "source": [
        "!wget https://raw.githubusercontent.com/GIGIDAGG/PCTO/main/custom.yaml"
      ],
      "metadata": {
        "id": "4d6FESIwZS30"
      },
      "execution_count": null,
      "outputs": []
    },
    {
      "cell_type": "code",
      "source": [
        "!mv custom.yaml /content/yolov5/data"
      ],
      "metadata": {
        "id": "hWNuhKoQhN94"
      },
      "execution_count": null,
      "outputs": []
    },
    {
      "cell_type": "code",
      "source": [
        "%cd /content/yolov5"
      ],
      "metadata": {
        "id": "Ywvy7hPQLM_6"
      },
      "execution_count": null,
      "outputs": []
    },
    {
      "cell_type": "code",
      "source": [
        "%pip install -qr requirements.txt"
      ],
      "metadata": {
        "id": "1HhUYL_ALQBh"
      },
      "execution_count": null,
      "outputs": []
    },
    {
      "cell_type": "code",
      "source": [
        "!python train.py --img 640 --batch 16 --epochs 60 --data /content/yolov5/data/custom.yaml --weights yolov5s.pt --cache"
      ],
      "metadata": {
        "id": "Xnpr58TkLemP"
      },
      "execution_count": null,
      "outputs": []
    },
    {
      "cell_type": "code",
      "source": [
        "!python detect.py --weights runs/train/exp4/weights/last.pt --img 640 --conf 0.25 --source https://pruamarina.it/pub/media/catalog/category/boe-da-barriere-galleggianti-small.jpg"
      ],
      "metadata": {
        "id": "5AgFfp8LMCrJ"
      },
      "execution_count": null,
      "outputs": []
    }
  ]
}