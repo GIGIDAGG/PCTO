{
  "nbformat": 4,
  "nbformat_minor": 0,
  "metadata": {
    "colab": {
      "provenance": [],
      "gpuType": "T4",
      "include_colab_link": true
    },
    "kernelspec": {
      "name": "python3",
      "display_name": "Python 3"
    },
    "language_info": {
      "name": "python"
    },
    "accelerator": "GPU"
  },
  "cells": [
    {
      "cell_type": "markdown",
      "metadata": {
        "id": "view-in-github",
        "colab_type": "text"
      },
      "source": [
        "<a href=\"https://colab.research.google.com/github/GIGIDAGG/PCTO/blob/main/Coco128_%2B_Buoys_Detection.ipynb\" target=\"_parent\"><img src=\"https://colab.research.google.com/assets/colab-badge.svg\" alt=\"Open In Colab\"/></a>"
      ]
    },
    {
      "cell_type": "code",
      "execution_count": null,
      "metadata": {
        "id": "a_RvxT0Pc8MU"
      },
      "outputs": [],
      "source": [
        "!git clone https://github.com/ultralytics/yolov5"
      ]
    },
    {
      "cell_type": "code",
      "source": [
        "import torch"
      ],
      "metadata": {
        "id": "5RgnuitELSxl"
      },
      "execution_count": null,
      "outputs": []
    },
    {
      "cell_type": "code",
      "source": [
        "torch.hub.download_url_to_file('https://app.roboflow.com/ds/6fDcQZtyLu?key=NmliLrqyk5', 'roboflow.zip')"
      ],
      "metadata": {
        "id": "EdiqnrTYLU62"
      },
      "execution_count": null,
      "outputs": []
    },
    {
      "cell_type": "code",
      "source": [
        "!unzip -q roboflow.zip -d /content/buoys && rm roboflow.zip"
      ],
      "metadata": {
        "id": "Vl-aQm36La6n"
      },
      "execution_count": null,
      "outputs": []
    },
    {
      "cell_type": "code",
      "source": [
        "torch.hub.download_url_to_file('https://ultralytics.com/assets/coco128.zip', 'tmp.zip')"
      ],
      "metadata": {
        "id": "bORMx9XKQtHp"
      },
      "execution_count": null,
      "outputs": []
    },
    {
      "cell_type": "code",
      "source": [
        "!unzip -q tmp.zip -d /content/datasets && rm tmp.zip"
      ],
      "metadata": {
        "id": "r5UdKixCQ3-q"
      },
      "execution_count": null,
      "outputs": []
    },
    {
      "cell_type": "code",
      "source": [
        "!cp /content/buoys/train/images/* /content/datasets/coco128/images/train2017/"
      ],
      "metadata": {
        "id": "7noGv2Sof4q2"
      },
      "execution_count": null,
      "outputs": []
    },
    {
      "cell_type": "code",
      "source": [
        "!cp /content/buoys/train/labels/* /content/datasets/coco128/labels/train2017/"
      ],
      "metadata": {
        "id": "ozAiSP3NhOn9"
      },
      "execution_count": null,
      "outputs": []
    },
    {
      "cell_type": "code",
      "source": [
        "import yaml\n",
        "#with open('/content/buoys/data.yaml', 'r') as file:\n",
        "#    nuovi_dati = yaml.safe_load(file)\n",
        "#lista = nuovi_dati['names']\n",
        "with open('/content/yolov5/data/coco128.yaml', 'r') as file:\n",
        "    data = yaml.safe_load(file)\n",
        "#for i in lista:\n",
        "#  data['names'][len(data['names'])] = i\n",
        "data['names'][0] = 'buoy'\n",
        "with open('/content/yolov5/data/coco128.yaml', 'w') as file:\n",
        "    yaml.dump(data, file)"
      ],
      "metadata": {
        "id": "i_4H1hKzY4ax"
      },
      "execution_count": null,
      "outputs": []
    },
    {
      "cell_type": "code",
      "source": [
        "%cd /content/yolov5"
      ],
      "metadata": {
        "id": "Ywvy7hPQLM_6"
      },
      "execution_count": null,
      "outputs": []
    },
    {
      "cell_type": "code",
      "source": [
        "%pip install -qr requirements.txt"
      ],
      "metadata": {
        "id": "1HhUYL_ALQBh"
      },
      "execution_count": null,
      "outputs": []
    },
    {
      "cell_type": "code",
      "source": [
        "!python train.py --img 640 --batch 16 --epochs 60 --data /content/yolov5/data/coco128.yaml --weights yolov5s.pt --cache"
      ],
      "metadata": {
        "id": "GWQkS5z0RqxV"
      },
      "execution_count": null,
      "outputs": []
    },
    {
      "cell_type": "code",
      "source": [
        "!python detect.py --weights runs/train/exp/weights/last.pt --img 640 --conf 0.25 --source https://youtu.be/gPqqcKuKyaI"
      ],
      "metadata": {
        "id": "5AgFfp8LMCrJ"
      },
      "execution_count": null,
      "outputs": []
    },
    {
      "cell_type": "code",
      "source": [
        "!pip install \"wandb==0.12.10\""
      ],
      "metadata": {
        "id": "0lpLM0Cn0Urd"
      },
      "execution_count": null,
      "outputs": []
    },
    {
      "cell_type": "code",
      "source": [
        "#@title inserimento dataset e train su wandb\n",
        "import wandb\n",
        "wandb.login(relogin=True)\n",
        "wandb.init(project='PCTO UNIVPM', entity='gigidagg')\n",
        "# Crea un nuovo artefatto\n",
        "artifact = wandb.Artifact('data.yaml', type='dataset')\n",
        "\n",
        "# Carica i dati delle boe nel tuo artefatto\n",
        "artifact.add_file('/content/data.yaml', name='data.yaml')\n",
        "\n",
        "# Aggiungi eventuali metadati o descrizioni\n",
        "wandb.log({\"message\": \"Dataset delle boe salvato con successo\"})\n",
        "\n",
        "# Salva l'artefatto\n",
        "wandb.run.log_artifact(artifact)\n",
        "wandb.run.finish()"
      ],
      "metadata": {
        "cellView": "form",
        "id": "kLkftG4NzSZt"
      },
      "execution_count": null,
      "outputs": []
    },
    {
      "cell_type": "markdown",
      "source": [],
      "metadata": {
        "id": "sOFTMAdg_XGh"
      }
    }
  ]
}